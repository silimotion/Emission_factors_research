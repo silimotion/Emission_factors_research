{
  "cells": [
    {
      "cell_type": "markdown",
      "metadata": {
        "id": "z76dKo0-VrQ7"
      },
      "source": [
        "# Spanish non-peninsular emission factors\n",
        "\n",
        "The [current approach](https://colab.research.google.com/drive/1buA-yHQCF711F53IX7_GAxYMJ9p4qJoT#scrollTo=wIpaSc_Hgy7i) used to calculate EU emission factors is not able to calculate the emission factors of these zones, as their production is not reported to ENTSO-E. To be able to accurately measure the intensity of their electricity it is necessary to follow an alternative methodology."
      ]
    },
    {
      "cell_type": "markdown",
      "metadata": {
        "id": "AYBemtIBWW-8"
      },
      "source": [
        "This new method is similar, in that it uses annual electricity production and emissions data to compute the emissions per kWh of electricity. Our sources in this case will be:\n",
        "\n",
        "- REE's [demanda.ree.es](https://demanda.ree.es) for annual electricity production. The data available is an aggregate of the production of all generators in each island or system, divided by fuel. Note that REE's categories need to be mapped to EM categories.\n",
        "\n",
        "- Emissions data can be obtained from [EU-ETS registry](https://climate.ec.europa.eu/eu-action/eu-emissions-trading-system-eu-ets/union-registry_en), as in the general case.\n",
        "\n",
        "For each given fuel, zone and year, we will obtain the corresponding emission factor by dividing total emissions by total production in that year.\n",
        "\n",
        "There are some edge cases to consider. Sometimes, a power plant produces electricity from two different fuels. In this case, it is impossible to compute the intensity values as we can not map the emissions to each fuel."
      ]
    },
    {
      "cell_type": "markdown",
      "metadata": {
        "id": "imfiNrbGcnpw"
      },
      "source": [
        "### Electricity production data\n",
        "\n",
        "The production values per system and fuel can be downloaded from REE's page. In this case, to simplify data adquisition, an ad-hoc script that calls the ES parser from the EM repository has been employed. This parser contains most of the logic needed to obtain the data.\n",
        "\n",
        "Following are data already computed and the Python script used to obtain it.\n"
      ]
    },
    {
      "cell_type": "markdown",
      "metadata": {
        "id": "Eq4md7LR9tGc"
      },
      "source": [
        "Note that some data points have being removed manually due to incorrect reporting by REE"
      ]
    },
    {
      "cell_type": "code",
      "execution_count": 1,
      "metadata": {
        "id": "H7iGJCCjRYFP"
      },
      "outputs": [],
      "source": [
        "PRODUCTION_DATA = {\n",
        "    \"ES-IB-ME\" : {\n",
        "        2017 : 422875.775077,\n",
        "        2018 : 478983.916458,\n",
        "        2019 : 479678.874977,\n",
        "        2020 : 349145.074985,\n",
        "        2021 : 373395.01671,\n",
        "        2022 : 412357.025037,\n",
        "    },\n",
        "    \"ES-IB-IZ (gas)\" : {\n",
        "        2017 : 927207.716905,\n",
        "        2018 : 913244.699988,\n",
        "        2019 : 428725.183395,\n",
        "        2020 : 143425.099979,\n",
        "        2021 : 255090.499969,\n",
        "        2022 : 388904.975038,\n",
        "    },\n",
        "    \"ES-CN-HI\" : {\n",
        "        2017 : 24724.475338,\n",
        "        2018 : 19158.990104,\n",
        "        2019 : 20460.299462,\n",
        "        2020 : 28286.924295,\n",
        "        2021 : 25819.624999,\n",
        "        2022 : 25694.041414,\n",
        "        2023 : 33741.707739,\n",
        "    },\n",
        "    \"ES-CN-FVLZ\" : {\n",
        "        2017 : 1515563.175025,\n",
        "        2018 : 1471065.374982,\n",
        "        2019 : 1402101.716819,\n",
        "        2020 : 1121512.375059,\n",
        "        2021 : 1116423.975036,\n",
        "        2022 : 1284931.516733,\n",
        "        2023 : 1367014.774921,\n",
        "    },\n",
        "    \"ES-CN-GC\" : {\n",
        "        2017 : 3203081.466642,\n",
        "        2018 : 3016455.208299,\n",
        "        2019 : 2894098.674984,\n",
        "        2020 : 2677012.658181,\n",
        "        2021 : 2551784.283387,\n",
        "        2022 : 2531452.075076,\n",
        "        2023 : 2599146.066643,\n",
        "    },\n",
        "    \"ES-CN-IG\" : {\n",
        "        2017 : 75582.175187,\n",
        "        2018 : 74514.983365,\n",
        "        2019 : 75628.500038,\n",
        "        2020 : 69852.200008,\n",
        "        2021 : 69497.291734,\n",
        "        2022 : 70435.266649,\n",
        "        2023 : 64412.77498,\n",
        "    },\n",
        "    \"ES-CN-LP\" : {\n",
        "        2017 : 244418.566669,\n",
        "        2018 : 242687.241658,\n",
        "        2019 : 244844.59181,\n",
        "        2020 : 234406.808362,\n",
        "        2021 : 233139.433166,\n",
        "        2022 : 229736.54164,\n",
        "        2023 : 242507.558288,\n",
        "    },\n",
        "    \"ES-CN-TE\" : {\n",
        "        2017 : 3263387.95842,\n",
        "        2018 : 3187850.249959,\n",
        "        2019 : 2887694.933186,\n",
        "        2020 : 2540683.641714,\n",
        "        2021 : 2575534.291732,\n",
        "        2022 : 2784201.391737,\n",
        "        2023 : 2876485.308361,\n",
        "    },\n",
        "}"
      ]
    },
    {
      "cell_type": "markdown",
      "metadata": {
        "id": "lYB5oXey1uEB"
      },
      "source": [
        "These scripts are provided as a means to check the correctness of the data above and to improve reproducibility.\n",
        "\n",
        "They must be run inside the EM repository, as they use the already existing ES parser. The code works as a wrapper that queries all data and uses a database to buffer already downloaded production data, so as to minimize unnecessary requests."
      ]
    },
    {
      "cell_type": "code",
      "execution_count": null,
      "metadata": {
        "id": "Ce44YQep3M_g"
      },
      "outputs": [],
      "source": [
        "## year_calc.py\n",
        "\n",
        "import ast\n",
        "import calendar\n",
        "from datetime import datetime, timedelta\n",
        "from logging import getLogger\n",
        "\n",
        "from electricitymap.contrib.lib.models.events import ProductionMix\n",
        "from electricitymap.contrib.parsers.ES import fetch_production\n",
        "\n",
        "\n",
        "def calc(zone, year, cur):\n",
        "    total = ProductionMix()\n",
        "    for single_date in (\n",
        "        datetime.fromisoformat(f\"{year}-01-01 00:00\") + timedelta(n)\n",
        "        for n in range(365 + calendar.isleap(year))\n",
        "    ):\n",
        "        res = cur.execute(\n",
        "            f\"SELECT value FROM elecData WHERE elecData.date == '{single_date}' AND elecData.zone == '{zone}'\"\n",
        "        ).fetchone()\n",
        "        if res is not None:\n",
        "            values = ast.literal_eval(res[0])\n",
        "            for key in values:\n",
        "                total.add_value(key, values[key])\n",
        "            continue\n",
        "        res = fetch_production(\n",
        "            zone, target_datetime=single_date, logger=getLogger(__name__)\n",
        "        )\n",
        "        print(single_date)\n",
        "        buffer = ProductionMix()\n",
        "        for response in res:\n",
        "            if response.get(\"datetime\").day == single_date.day:\n",
        "                for fuel in response.get(\"production\"):\n",
        "                    buffer.add_value(\n",
        "                        fuel,\n",
        "                        0\n",
        "                        if response.get(\"production\").get(fuel) is None\n",
        "                        else response.get(\"production\").get(fuel) / 12,\n",
        "                    )\n",
        "        cur.execute(\n",
        "            f\"\"\"\n",
        "                    INSERT INTO elecData(date, zone, value) VALUES\n",
        "                        ('{single_date}', '{zone}', \"{buffer.dict()}\")\n",
        "                    \"\"\"\n",
        "        )\n",
        "        for key in response.get(\"production\"):\n",
        "            total.add_value(key, buffer.dict().get(key))\n",
        "    print()\n",
        "    print(year)\n",
        "    print(zone)\n",
        "    print(total)\n",
        "    print()\n",
        "    cur.execute(\n",
        "        f\"\"\"\n",
        "    INSERT INTO yearElecData(date, zone, value) VALUES\n",
        "        ({year}, '{zone}', \"{total.dict()}\")\n",
        "\"\"\"\n",
        "    )\n"
      ]
    },
    {
      "cell_type": "code",
      "execution_count": null,
      "metadata": {
        "id": "GwbfiYOI38tW"
      },
      "outputs": [],
      "source": [
        "import sqlite3\n",
        "\n",
        "from year_calc import calc\n",
        "\n",
        "con = sqlite3.connect(\"data.sql\", isolation_level=None)\n",
        "\n",
        "cur = con.cursor()\n",
        "\n",
        "# Run once to init sql file:\n",
        "#\n",
        "# cur.execute(\"CREATE TABLE elecData(date, zone, value)\")\n",
        "# cur.execute(\"CREATE TABLE yearElecData(date, zone, value)\")\n",
        "\n",
        "# Change zones and dates as needed\n",
        "\n",
        "INITIAL_YEAR = 2017\n",
        "LAST_YEAR = 2023  # included\n",
        "\n",
        "ZONES = [\n",
        "    \"ES-IB-IZ\",\n",
        "    \"ES-IB-ME\",\n",
        "    \"ES-CN-HI\",\n",
        "    \"ES-CN-FVLZ\",\n",
        "    \"ES-CN-GC\",\n",
        "    \"ES-CN-IG\",\n",
        "    \"ES-CN-LP\",\n",
        "    \"ES-CN-TE\",\n",
        "]\n",
        "\n",
        "for zone in ZONES:\n",
        "    for delta in range(LAST_YEAR - INITIAL_YEAR + 1):\n",
        "        calc(zone, INITIAL_YEAR + delta, cur)\n"
      ]
    },
    {
      "cell_type": "markdown",
      "metadata": {
        "id": "EzZtlZMKePGt"
      },
      "source": [
        "### EU-ETS data\n",
        "\n",
        "We can use a method similar to the one used in the general case.\n",
        "\n",
        "All these power plants use oil for fuel, except the one in Ibiza. In systems with more than one fuel, one grouping per fuel would be needed. However this is not the case for any of these zones.\n"
      ]
    },
    {
      "cell_type": "code",
      "execution_count": 2,
      "metadata": {
        "id": "O8iLnwFGUBNC"
      },
      "outputs": [],
      "source": [
        "SYSTEM_PLANT_MAPPING = {\n",
        "    \"ES-IB-ME\" : [\n",
        "        \"Maó\"],\n",
        "    \"ES-IB-IZ (gas)\" : [\n",
        "        \"Eivissa\"],\n",
        "    \"ES-CN-HI\":[\n",
        "        \"Llanos Blancos\"],\n",
        "    \"ES-CN-LP\" : [\n",
        "        \"Los Guinchos\"],\n",
        "    \"ES-CN-IG\":[\n",
        "        \"El Palmar\"],\n",
        "    \"ES-CN-TE\" : [\n",
        "        \"Granadilla\",\n",
        "        \"Candelaria\",\n",
        "        \"Guía de Isora\",\n",
        "        \"Arona\"],\n",
        "    \"ES-CN-GC\" : [\n",
        "        \"Barranco de Tirajana\",\n",
        "        \"Jinámar\"],\n",
        "    \"ES-CN-FVLZ\" : [\n",
        "        \"Las Salinas\",\n",
        "        \"Punta Grande\"]\n",
        "}\n",
        "\n",
        "NAME_ID_MAPPING = {\n",
        "    \"Maó\" : \"ES130701000793\",\n",
        "    \"Eivissa\" : \"ES130701000781\",\n",
        "    \"Llanos Blancos\" : \"ES043801001275\",\n",
        "    \"Los Guinchos\" : \"ES043801000287\",\n",
        "    \"El Palmar\" : \"ES043801001276\",\n",
        "    \"Granadilla\" : \"ES043801000236\",\n",
        "    \"Candelaria\" : \"ES043801000262\",\n",
        "    \"Guía de Isora\" : \"ES043801001347\",\n",
        "    \"Arona\" : \"ES043801000297\",\n",
        "    \"Barranco de Tirajana\" : \"ES043501000258\",\n",
        "    \"Jinámar\" : \"ES043501000276\",\n",
        "    \"Las Salinas\" : \"ES043501000243\",\n",
        "    \"Punta Grande\" : \"ES043501000250\"\n",
        "}\n"
      ]
    },
    {
      "cell_type": "markdown",
      "metadata": {
        "id": "Y3zrHziKz851"
      },
      "source": [
        "Latest ETS data can be dowloaded from the official webpage. We convert the xlsx to csv for easier handling."
      ]
    },
    {
      "cell_type": "code",
      "execution_count": 3,
      "metadata": {
        "colab": {
          "base_uri": "https://localhost:8080/"
        },
        "id": "Ub4mjMHzJRUM",
        "outputId": "7b21553a-54c7-4aed-8bac-b13a613a28cf"
      },
      "outputs": [
        {
          "name": "stdout",
          "output_type": "stream",
          "text": [
            "  % Total    % Received % Xferd  Average Speed   Time    Time     Time  Current\n",
            "                                 Dload  Upload   Total   Spent    Left  Speed\n",
            "100 5274k  100 5274k    0     0  7630k      0 --:--:-- --:--:-- --:--:-- 7632k\n"
          ]
        }
      ],
      "source": [
        "!curl -L \"https://climate.ec.europa.eu/document/download/ebb2c20e-8737-4a73-b6ba-a4b7e78ecc01_en?filename=verified_emissions_2023_en.xlsx\" > verified_emissions_2023.xlsx\n",
        "\n",
        "import pandas as pd\n",
        "data_xls = pd.read_excel('verified_emissions_2023.xlsx', 'data', skiprows=21, index_col = None)\n",
        "data_xls.to_csv('verified_emissions_2023.csv', encoding='utf-8')\n"
      ]
    },
    {
      "cell_type": "code",
      "execution_count": 4,
      "metadata": {
        "id": "aSshLD9wJW2o"
      },
      "outputs": [],
      "source": [
        "def get_eu_ets_emissions_data(year: int, id: str) -> pd.DataFrame:\n",
        "    '''This function extracts emissions and allocation for the chosen year. '''\n",
        "    csv_emissions = \"verified_emissions_2023.csv\"\n",
        "    df_emissions = pd.read_csv(csv_emissions)\n",
        "    df_emissions = df_emissions.loc[df_emissions[\"PERMIT_IDENTIFIER\"] == id]\n",
        "    df_emissions[f\"VERIFIED_EMISSIONS_{str(year)}\"] = df_emissions[f\"VERIFIED_EMISSIONS_{str(year)}\"].apply(lambda x: float(x))\n",
        "    return df_emissions"
      ]
    },
    {
      "cell_type": "markdown",
      "metadata": {
        "id": "WCdBXmGw4sBc"
      },
      "source": [
        "This is an example command for the previous function. It obtains the emissions for \"Llanos Blancos\" plant in the year 2021."
      ]
    },
    {
      "cell_type": "code",
      "execution_count": null,
      "metadata": {
        "colab": {
          "base_uri": "https://localhost:8080/"
        },
        "id": "CdP6UkiD4m04",
        "outputId": "ec378130-1f8e-4008-be05-cc097cb77878"
      },
      "outputs": [
        {
          "name": "stdout",
          "output_type": "stream",
          "text": [
            "18311.0\n"
          ]
        }
      ],
      "source": [
        "df_emissions = get_eu_ets_emissions_data(year= 2021, id =\"ES043801001275\")\n",
        "print(df_emissions[\"VERIFIED_EMISSIONS_2021\"].iloc[0])"
      ]
    },
    {
      "cell_type": "markdown",
      "metadata": {
        "id": "w7rt328A58Gr"
      },
      "source": [
        "### Results - Calculating the emission factors\n",
        "\n",
        "By combining both previous sections we can obtain the intensity values.\n",
        "\n",
        "Each production data point is matched with the corresponding emissions data point and stored in a dictionary."
      ]
    },
    {
      "cell_type": "code",
      "execution_count": 5,
      "metadata": {
        "colab": {
          "base_uri": "https://localhost:8080/"
        },
        "id": "i2dEBtO3Jbfr",
        "outputId": "e24790b8-9f06-45c0-b81f-643d189eeaa8"
      },
      "outputs": [
        {
          "name": "stdout",
          "output_type": "stream",
          "text": [
            "{'ES-IB-ME': {2017: 773.0922868316868, 2018: 814.3989528596306, 2019: 812.543600171445, 2020: 777.2843423658754, 2021: 781.3976805871657, 2022: 838.7585975259326}, 'ES-IB-IZ (gas)': {2017: 618.2886418521227, 2018: 590.3291856028115, 2019: 583.131128477851, 2020: 635.2165695777068, 2021: 581.127090260182, 2022: 570.6998219251719}, 'ES-CN-HI': {2017: 681.6727056730073, 2018: 697.8969104017864, 2019: 689.5793498137217, 2020: 693.3945803173438, 2021: 709.1892310871746, 2022: 717.0534095100062, 2023: 709.6558415246844}, 'ES-CN-FVLZ': {2017: 724.1888811278984, 2018: 722.0963922238994, 2019: 722.0053922312421, 2020: 709.958282857211, 2021: 701.9662937413443, 2022: 726.5904741552072, 2023: 699.2952947821974}, 'ES-CN-GC': {2017: 712.8844594745403, 2018: 704.6161315945918, 2019: 703.5160955634162, 2020: 688.4588290487601, 2021: 692.1556855329748, 2022: 688.2476730070797, 2023: 689.4991485856154}, 'ES-CN-IG': {2017: 683.9575584071235, 2018: 696.1016114829271, 2019: 692.6357123793258, 2020: 697.3295042163505, 2021: 707.279359721474, 2022: 693.6298011543572, 2023: 713.29018217684}, 'ES-CN-LP': {2017: 680.3861190512904, 2018: 679.710226516402, 2019: 685.0345305162245, 2020: 681.0211747496272, 2021: 678.6282262569787, 2022: 683.2522108997828, 2023: 677.0716804010016}, 'ES-CN-TE': {2017: 719.3177856599441, 2018: 715.6412068067945, 2019: 726.5719019997524, 2020: 703.6649390925028, 2021: 701.3841771779332, 2022: 691.5692254570508, 2023: 694.4683479500313}}\n"
          ]
        }
      ],
      "source": [
        "EMISSIONS_DATA = {}\n",
        "for zone in PRODUCTION_DATA:\n",
        "  EMISSIONS_DATA[zone] = {}\n",
        "  for year in PRODUCTION_DATA.get(zone):\n",
        "    total_emissions = 0\n",
        "    for pp in SYSTEM_PLANT_MAPPING[zone]:\n",
        "      total_emissions = total_emissions + get_eu_ets_emissions_data(year, NAME_ID_MAPPING.get(pp))[f\"VERIFIED_EMISSIONS_{str(year)}\"].iloc[0]\n",
        "    EMISSIONS_DATA.get(zone)[year] = total_emissions * 1000 / PRODUCTION_DATA[zone][year]\n",
        "\n",
        "print(EMISSIONS_DATA)\n"
      ]
    },
    {
      "cell_type": "markdown",
      "metadata": {
        "id": "XOUAe75W8j0V"
      },
      "source": [
        "We can plot the results to check for patterns or errors, and to compare the different zones."
      ]
    },
    {
      "cell_type": "code",
      "execution_count": 8,
      "metadata": {
        "colab": {
          "base_uri": "https://localhost:8080/",
          "height": 543
        },
        "id": "KCsX0Q28_2m8",
        "outputId": "43b1d60d-d9c1-4966-b002-98bf3c1c5fcd"
      },
      "outputs": [
        {
          "data": {
            "image/png": "[encoded data removed]",
            "text/plain": [
              "<Figure size 1600x640 with 1 Axes>"
            ]
          },
          "metadata": {},
          "output_type": "display_data"
        }
      ],
      "source": [
        "import matplotlib.pyplot as plt\n",
        "\n",
        "plt.figure(figsize=(20, 8), dpi=80)\n",
        "\n",
        "for zone in EMISSIONS_DATA:\n",
        "  dates = list(EMISSIONS_DATA[zone].keys())\n",
        "  prices = list(EMISSIONS_DATA[zone].values())\n",
        "  plt.plot(dates, prices, '-o')\n",
        "plt.gca().legend(EMISSIONS_DATA.keys())\n",
        "plt.show()"
      ]
    },
    {
      "cell_type": "markdown",
      "metadata": {
        "id": "H_XAJm-VnV2r"
      },
      "source": [
        "We can appreciate several anomalies, namely in Menorca and Ibiza.\n",
        "\n",
        "The change in the Menorca zone intensity can be explained by a higher proportion of production from \"Gas turbine\" instead of \"Diesel engine\". These \"Gas turbines\" produce more CO2 but less other pollutants per kWh. Note that despite the name they use oil as fuel.\n",
        "\n",
        "The higher factor for 2020 for Ibiza could be explained by a lower use factor, and therefore less efficient production"
      ]
    }
  ],
  "metadata": {
    "colab": {
      "provenance": []
    },
    "kernelspec": {
      "display_name": "Python 3",
      "name": "python3"
    },
    "language_info": {
      "name": "python"
    }
  },
  "nbformat": 4,
  "nbformat_minor": 0
}
